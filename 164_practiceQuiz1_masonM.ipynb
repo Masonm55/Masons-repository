{
  "nbformat": 4,
  "nbformat_minor": 0,
  "metadata": {
    "colab": {
      "provenance": [],
      "collapsed_sections": [],
      "authorship_tag": "ABX9TyNs6mf9kD7Z2gh2qKniUpJk",
      "include_colab_link": true
    },
    "kernelspec": {
      "name": "python3",
      "display_name": "Python 3"
    },
    "language_info": {
      "name": "python"
    }
  },
  "cells": [
    {
      "cell_type": "markdown",
      "metadata": {
        "id": "view-in-github",
        "colab_type": "text"
      },
      "source": [
        "<a href=\"https://colab.research.google.com/github/Masonm55/Masons-repository/blob/main/164_practiceQuiz1_masonM.ipynb\" target=\"_parent\"><img src=\"https://colab.research.google.com/assets/colab-badge.svg\" alt=\"Open In Colab\"/></a>"
      ]
    },
    {
      "cell_type": "code",
      "execution_count": null,
      "metadata": {
        "id": "dKWVVhQ0QLm9"
      },
      "outputs": [],
      "source": [
        "Question 1\n",
        "Write a program that asks users for height and width of a rectangle (float data type) and calculates the perimeter and area of the said rectangle.\n",
        "perimeter = 2* (width + length)\n",
        "area = width * length\n",
        "When you run the program something similar to the below is what the user sees:\n"
      ]
    },
    {
      "cell_type": "code",
      "source": [
        "width=float(input('what is the width of the rectangle:'))\n",
        "height=float(input('what is the height of the rectangle:'))\n",
        "\n",
        "\n",
        "area=(width* height)\n",
        "perimeter=(2*(width+height))\n",
        "\n",
        "print('the perimeter of a rectangle with the width of', width,'and a height of', height,'is', perimeter, 'and the area is', area)"
      ],
      "metadata": {
        "colab": {
          "base_uri": "https://localhost:8080/"
        },
        "id": "0mt5ahM2QWOM",
        "outputId": "b31ba94d-6b47-4974-ef8b-dbfbf6092570"
      },
      "execution_count": 13,
      "outputs": [
        {
          "output_type": "stream",
          "name": "stdout",
          "text": [
            "what is the width of the rectangle:5\n",
            "what is the height of the rectangle:5\n",
            "the perimeter of a rectangle with the width of 5.0 and a height of 5.0  is 20.0 and the area is 25.0\n"
          ]
        }
      ]
    },
    {
      "cell_type": "code",
      "source": [
        "question 2:\n",
        "Write a program that receives height in inches and weight in pounds and calculates BMI.\n",
        " \n",
        "BMI = (weight divided by  height-squared  ) *703\n",
        "Hint: to calculate height-squared use math.pow or  **\n",
        "example: 3**2 is 9 , math.pow(3,2) is 9\n"
      ],
      "metadata": {
        "id": "DKE_4NgTZ2Tw"
      },
      "execution_count": null,
      "outputs": []
    },
    {
      "cell_type": "code",
      "source": [
        "height=float(input('what is your height in inches:'))\n",
        "weight=float(input('what is your weight in pounds:'))\n",
        "\n",
        "BMI= weight/(height**2)*703\n",
        "\n",
        "print('The BMI of you with the weight of', weight,'and a height of', height,' is', BMI)"
      ],
      "metadata": {
        "colab": {
          "base_uri": "https://localhost:8080/"
        },
        "id": "Ypk1F6SoaE01",
        "outputId": "209aa7ee-c87d-4f3a-eb15-ba740a4b349e"
      },
      "execution_count": 18,
      "outputs": [
        {
          "output_type": "stream",
          "name": "stdout",
          "text": [
            "what is your height in inches:72\n",
            "what is your weight in pounds:190\n",
            "The BMI of you with the weight of 190.0 and a height of 72.0  is 25.76581790123457\n"
          ]
        }
      ]
    }
  ]
}