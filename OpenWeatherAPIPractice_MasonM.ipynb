{
  "nbformat": 4,
  "nbformat_minor": 0,
  "metadata": {
    "colab": {
      "name": "OpenWeatherAPIPractice_MasonM",
      "provenance": [],
      "collapsed_sections": [],
      "authorship_tag": "ABX9TyPK89Euii7tuUrDIDT2Evqo",
      "include_colab_link": true
    },
    "kernelspec": {
      "name": "python3",
      "display_name": "Python 3"
    },
    "language_info": {
      "name": "python"
    }
  },
  "cells": [
    {
      "cell_type": "markdown",
      "metadata": {
        "id": "view-in-github",
        "colab_type": "text"
      },
      "source": [
        "<a href=\"https://colab.research.google.com/github/Masonm55/Masons-repository/blob/main/OpenWeatherAPIPractice_MasonM.ipynb\" target=\"_parent\"><img src=\"https://colab.research.google.com/assets/colab-badge.svg\" alt=\"Open In Colab\"/></a>"
      ]
    },
    {
      "cell_type": "code",
      "execution_count": 2,
      "metadata": {
        "colab": {
          "base_uri": "https://localhost:8080/"
        },
        "id": "uLoR7FEPejqJ",
        "outputId": "4021acc2-8321-4e56-85d9-9a71d77b4686"
      },
      "outputs": [
        {
          "output_type": "stream",
          "name": "stdout",
          "text": [
            "Looking in indexes: https://pypi.org/simple, https://us-python.pkg.dev/colab-wheels/public/simple/\n",
            "Collecting pyowm\n",
            "  Downloading pyowm-3.3.0-py3-none-any.whl (4.5 MB)\n",
            "\u001b[K     |████████████████████████████████| 4.5 MB 5.2 MB/s \n",
            "\u001b[?25hCollecting geojson<3,>=2.3.0\n",
            "  Downloading geojson-2.5.0-py2.py3-none-any.whl (14 kB)\n",
            "Requirement already satisfied: PySocks<2,>=1.7.1 in /usr/local/lib/python3.7/dist-packages (from pyowm) (1.7.1)\n",
            "Requirement already satisfied: requests<3,>=2.20.0 in /usr/local/lib/python3.7/dist-packages (from pyowm) (2.23.0)\n",
            "Requirement already satisfied: chardet<4,>=3.0.2 in /usr/local/lib/python3.7/dist-packages (from requests<3,>=2.20.0->pyowm) (3.0.4)\n",
            "Requirement already satisfied: idna<3,>=2.5 in /usr/local/lib/python3.7/dist-packages (from requests<3,>=2.20.0->pyowm) (2.10)\n",
            "Requirement already satisfied: urllib3!=1.25.0,!=1.25.1,<1.26,>=1.21.1 in /usr/local/lib/python3.7/dist-packages (from requests<3,>=2.20.0->pyowm) (1.24.3)\n",
            "Requirement already satisfied: certifi>=2017.4.17 in /usr/local/lib/python3.7/dist-packages (from requests<3,>=2.20.0->pyowm) (2022.6.15)\n",
            "Installing collected packages: geojson, pyowm\n",
            "Successfully installed geojson-2.5.0 pyowm-3.3.0\n"
          ]
        }
      ],
      "source": [
        "! pip install pyowm"
      ]
    },
    {
      "cell_type": "code",
      "source": [
        "from pyowm.owm import OWM\n",
        "\n",
        "myKey='a89258e58297c35b8938869d6b46d7c7'\n",
        "owm= OWM(myKey)\n",
        "wmg=owm.weather_manager()"
      ],
      "metadata": {
        "id": "3gtKKTK_hjLP"
      },
      "execution_count": 5,
      "outputs": []
    },
    {
      "cell_type": "code",
      "source": [
        "city= input('what city would you like to teleport to: ')\n",
        "country= input('what country is the city in ')\n",
        "citycountry=city+ ', '+country\n",
        "\n",
        "observation=wmg.weather_at_place(citycountry)\n",
        "weather=observation.weather\n",
        "\n",
        "temperature=weather.temperature('farenheit')\n",
        "print(temperature)\n",
        "\n",
        "feellike=temperature.get ('feels like')\n",
        "print(feellike)\n",
        "\n",
        "if feellike < 30:\n",
        "  print ('you need a winter jacket if you want to go on a walk in', citycountry)\n",
        "\n",
        "elif feellike < 50:\n",
        "  print ('you may need a light jacket if you want to walk in', citycountry)\n",
        "\n",
        "elif feellike < 70:\n",
        "  print('you may want to dress in layersif you want to go on a walk in', citycountry)\n",
        "\n",
        "else:\n",
        "  print('you can wear your summer outfitif you want to go on a walk in', citycountry )"
      ],
      "metadata": {
        "id": "dKWK_JLzirw6"
      },
      "execution_count": null,
      "outputs": []
    }
  ]
}