{
  "nbformat": 4,
  "nbformat_minor": 0,
  "metadata": {
    "colab": {
      "provenance": [],
      "authorship_tag": "ABX9TyPZse5PTv/60JDE3bcvkcSm",
      "include_colab_link": true
    },
    "kernelspec": {
      "name": "python3",
      "display_name": "Python 3"
    },
    "language_info": {
      "name": "python"
    }
  },
  "cells": [
    {
      "cell_type": "markdown",
      "metadata": {
        "id": "view-in-github",
        "colab_type": "text"
      },
      "source": [
        "<a href=\"https://colab.research.google.com/github/Masonm55/Masons-repository/blob/main/Copy_of_Untitled0.ipynb\" target=\"_parent\"><img src=\"https://colab.research.google.com/assets/colab-badge.svg\" alt=\"Open In Colab\"/></a>"
      ]
    },
    {
      "cell_type": "code",
      "execution_count": null,
      "metadata": {
        "colab": {
          "base_uri": "https://localhost:8080/"
        },
        "id": "TXzdhOg55h8u",
        "outputId": "1736fca8-0a53-4e14-a979-5b7a18b7c6c5"
      },
      "outputs": [
        {
          "output_type": "stream",
          "name": "stdout",
          "text": [
            " provide the number of five bills1\n",
            "provide the number of ten bills3\n",
            "provide the numbers of one bills2\n",
            "With 1 five dollar bill, and 3 ten dollar bill, and 2 one dollar bills you get 148 quarters back\n"
          ]
        }
      ],
      "source": [
        "def total_quarters(five, ten, one):\n",
        "  total_money=(five_bills*5)+(ten_bills*10) + (one_bills)\n",
        "  total_quarters= total_money*4\n",
        "  return total_quarters\n",
        "\n",
        "if __name__ == '__main__':\n",
        "\n",
        "  five_bills=int(input(' provide the number of five bills'))\n",
        "  ten_bills=int(input('provide the number of ten bills'))\n",
        "  one_bills=int(input('provide the numbers of one bills'))\n",
        "\n",
        "  quarters=total_quarters(five_bills, ten_bills, one_bills)\n",
        "  print('With', five_bills, 'five dollar bill, and', ten_bills, 'ten dollar bill, and', one_bills,'one dollar bills you get',quarters, 'quarters back')"
      ]
    }
  ]
}